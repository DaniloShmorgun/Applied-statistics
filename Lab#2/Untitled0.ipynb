{
  "nbformat": 4,
  "nbformat_minor": 0,
  "metadata": {
    "colab": {
      "provenance": []
    },
    "kernelspec": {
      "name": "python3",
      "display_name": "Python 3"
    },
    "language_info": {
      "name": "python"
    }
  },
  "cells": [
    {
      "cell_type": "markdown",
      "source": [
        "Спостерігається вибірка $\\bar{X}=\\left(X_1, \\ldots, X_n\\right)$, де $\\left\\{X_i\\right\\}$ - незалежні однаково\n",
        "розподілені випадкові величини, які мають показниковий розподіл з параметром $\\lambda$,\n",
        "тобто \n",
        "$$\n",
        "F(u ; \\lambda)=\\mathbf{P}\\left\\{X_i<u\\right\\}=1-\\exp \\{-\\lambda u\\}, u \\geq 0\n",
        "$$.\n",
        "Якщо $\\left\\{\\omega_i\\right\\}$ - незалежні рівномірно розподілені на відрізку $[0,1]$ в.в., то\n",
        "$$\n",
        "X_i=F^{-1}\\left(1-\\omega_i ; \\lambda\\right)=-\\frac{1}{\\lambda} \\ln \\omega_i .\n",
        "$$\n",
        "Створюємо функцію для генерації вибірки для $n=1000, n=10000$ та $n=100000$."
      ],
      "metadata": {
        "id": "Ur2U1i_Nxm6A"
      }
    },
    {
      "cell_type": "code",
      "execution_count": null,
      "metadata": {
        "id": "jaeXyJsawGIL"
      },
      "outputs": [],
      "source": [
        "import numpy as np\n",
        "\n",
        "def sample_exponential_sequence(n, lam):\n",
        "    omega = np.random.uniform(size=n)\n",
        "    x = -1 / lam * np.log(1 - omega)\n",
        "    return x"
      ]
    },
    {
      "cell_type": "markdown",
      "source": [
        "## Завдання 1\n",
        "За допомогою критерія Колмогорова перевірити гіпотези:\n",
        "- $H_0: X_i \\sim F(u ; 1)$, коли насправді $X_i \\sim F(u ; 1)$;\n",
        "- $H_0: X_i \\sim F(u ; 1)$, коли насправді $X_i \\sim F(u ; 1.3)$.\n",
        "\n",
        "Рівень знначущості $\\gamma = 0.05$\n",
        "\n",
        "1. Знаходимо z_\\gamma, таку що K(z_\\gamma) = 1 - \\gamma\n",
        "2. Рахуємо статистику $D_n(\\overline{X})$\n",
        "2. Перевіряємо нерівність $\\sqrt{n}D_n(\\overline{X}) \\leq z_\\gamma$"
      ],
      "metadata": {
        "id": "GW4LMab_yiLm"
      }
    },
    {
      "cell_type": "code",
      "source": [
        "from scipy.stats import kstest\n",
        "from scipy.stats import expon\n",
        "from scipy.special import kolmogorov\n",
        "from scipy.special import kolmogi\n",
        "\n",
        "def exponential_test(data, lam, gamma):\n",
        "    n = len(data)\n",
        "    # 1.\n",
        "    critical_value = kolmogi(gamma)\n",
        "    \n",
        "    # 2.\n",
        "    ks_statistic, p_value = kstest(data, lambda x: expon.cdf(x, scale=1/lam))\n",
        "    \n",
        "    # 3.\n",
        "    if np.sqrt(n) * ks_statistic <= critical_value:\n",
        "        return True, p_value\n",
        "    else:\n",
        "        return False, p_value\n",
        "\n",
        "x = sample_exponential_sequence(1000, 1)\n",
        "res, p_value = exponential_test(x, 1, 0.05)\n",
        "print(f\"\"\"\n",
        "Для n={1000}, гіпотеза X ~ F(u, 1), коли насправді X ~ F(u, 1)\n",
        "Результат: {res}\n",
        "p-value: {p_value}\n",
        "\n",
        "\"\"\")\n",
        "\n",
        "x = sample_exponential_sequence(10000, 1)\n",
        "res, p_value = exponential_test(x, 1, 0.05)\n",
        "print(f\"\"\"\n",
        "Для n={10000}, гіпотеза X ~ F(u, 1), коли насправді X ~ F(u, 1)\n",
        "Результат: {res}\n",
        "p-value: {p_value}\n",
        "\n",
        "\"\"\")\n",
        "\n",
        "x = sample_exponential_sequence(100000, 1)\n",
        "res, p_value = exponential_test(x, 1, 0.05)\n",
        "print(f\"\"\"\n",
        "Для n={100000}, гіпотеза X ~ F(u, 1), коли насправді X ~ F(u, 1)\n",
        "Результат: {res}\n",
        "p-value: {p_value}\n",
        "\n",
        "\"\"\")\n",
        "\n",
        "x = sample_exponential_sequence(1000, 1.3)\n",
        "res, p_value = exponential_test(x, 1, 0.05)\n",
        "print(f\"\"\"\n",
        "Для n={10000}, гіпотеза X ~ F(u, 1), коли насправді X ~ F(u, 1.3)\n",
        "Результат: {res}\n",
        "p-value: {p_value}\n",
        "\n",
        "\"\"\")\n",
        "\n",
        "x = sample_exponential_sequence(10000, 1.3)\n",
        "res, p_value = exponential_test(x, 1, 0.05)\n",
        "print(f\"\"\"\n",
        "Для n={10000}, гіпотеза X ~ F(u, 1), коли насправді X ~ F(u, 1.3)\n",
        "Результат: {res}\n",
        "p-value: {p_value}\n",
        "\n",
        "\"\"\")\n",
        "\n",
        "x = sample_exponential_sequence(100000, 1.3)\n",
        "res, p_value = exponential_test(x, 1, 0.05)\n",
        "print(f\"\"\"\n",
        "Для n={10000}, гіпотеза X ~ F(u, 1), коли насправді X ~ F(u, 1.3)\n",
        "Результат: {res}\n",
        "p-value: {p_value}\n",
        "\n",
        "\"\"\")"
      ],
      "metadata": {
        "colab": {
          "base_uri": "https://localhost:8080/"
        },
        "id": "ePNr7tb8yhcV",
        "outputId": "4312753f-c034-42fb-d387-07c99da43419"
      },
      "execution_count": null,
      "outputs": [
        {
          "output_type": "stream",
          "name": "stdout",
          "text": [
            "\n",
            "Для n=1000, гіпотеза X ~ F(u, 1), коли насправді X ~ F(u, 1)\n",
            "Результат: True\n",
            "p-value: 0.3189086160135479\n",
            "\n",
            "\n",
            "\n",
            "Для n=10000, гіпотеза X ~ F(u, 1), коли насправді X ~ F(u, 1)\n",
            "Результат: True\n",
            "p-value: 0.31350627400131426\n",
            "\n",
            "\n",
            "\n",
            "Для n=100000, гіпотеза X ~ F(u, 1), коли насправді X ~ F(u, 1)\n",
            "Результат: True\n",
            "p-value: 0.6181772733660007\n",
            "\n",
            "\n",
            "\n",
            "Для n=10000, гіпотеза X ~ F(u, 1), коли насправді X ~ F(u, 1.3)\n",
            "Результат: False\n",
            "p-value: 5.403642754710831e-07\n",
            "\n",
            "\n",
            "\n",
            "Для n=10000, гіпотеза X ~ F(u, 1), коли насправді X ~ F(u, 1.3)\n",
            "Результат: False\n",
            "p-value: 3.33732277168134e-101\n",
            "\n",
            "\n",
            "\n",
            "Для n=10000, гіпотеза X ~ F(u, 1), коли насправді X ~ F(u, 1.3)\n",
            "Результат: False\n",
            "p-value: 0.0\n",
            "\n",
            "\n"
          ]
        }
      ]
    },
    {
      "cell_type": "markdown",
      "source": [
        "## Завдання 2: \n",
        "За допомогою критерія $\\chi^2$ перевірити гіпотези:\n",
        "- $H_0: X_i \\sim F(u ; 1)$, коли насправді $X_i \\sim F(u ; 1)$;\n",
        "- $H_0: X_i \\sim F(u ; 1)$, коли насправді $X_i \\sim F(u ; 1.3)$.\n",
        "\n",
        "Рівень знначущості $\\gamma = 0.05$\n"
      ],
      "metadata": {
        "id": "MfaIQCsRKYJG"
      }
    },
    {
      "cell_type": "code",
      "source": [
        "import numpy as np\n",
        "from scipy.stats import chi2, expon\n",
        "\n",
        "\n",
        "print(np.array([1, 2, 3, 4, 5]) < 3)\n",
        "\n",
        "\n",
        "def generate_intervals(r, distr):\n",
        "  intervals = [(0, distr.ppf(1/r))]\n",
        "  for i in range(0, r-1):\n",
        "    intervals.append((distr.ppf((i+1)/r) - distr.ppf(i/r), distr.ppf((i+2)/r) - distr.ppf((i+1)/r)))\n",
        "  return intervals\n",
        "\n",
        "\n",
        "\n",
        "def calculate_freqs(data, intervals):\n",
        "  freqs = []\n",
        "  for u0, u1 in intervals:\n",
        "    freqs.append(np.sum(np.int32((data < u1).all() and (data > u0).all())))\n",
        "  return np.array(freqs)  \n",
        "\n",
        "\n",
        "print(generate_intervals(3, expon))\n",
        "\n",
        "def chi_square_test(data, lam, gamma):\n",
        "    # Step 1: Calculate the critical value\n",
        "    r = int(30 * len(data) / 10000)\n",
        "    chi2_critical = chi2.ppf(1 - gamma, r)\n",
        "    \n",
        "    # Step 2: Calculate the expected probabilities and frequencies\n",
        "    intervals = generate_intervals(r, expon)\n",
        "    expected_freqs = np.array(map(lambda u1,u0: expon.cdf(u1, scale=1/lam) - expon.cdf(u0, scale=1/lam), intervals))\n",
        "    observed_freqs = calculate_freqs(data, intervals)\n",
        "\n",
        "    # expected_probs = [expon.cdf(expon.ppf((k+1) * 1/r, scale=1/lam) - expon.ppf(k * 1/r, scale=1/lam)) for k in range(0, r)]\n",
        "    #for point in divide_points:\n",
        "\n",
        "    # expected_probs = expon.cdf(areas, scale=1/lam)\n",
        "    print(expected_freqs)\n",
        "    print(observed_freqs)\n",
        "\n",
        "    # expected_freqs, _ = np.histogram(expected_probs, bins=r)\n",
        "    # observed_freqs, _ = np.histogram(data, bins=r)\n",
        "    \n",
        "    # Step 3: Calculate the chi-square test statistic\n",
        "    delta_n = np.sum((observed_freqs - expected_freqs) ** 2 / expected_freqs)\n",
        "    \n",
        "    # Step 4: Compare the test statistic with the critical value\n",
        "    if delta_n < chi2_critical:\n",
        "        return True\n",
        "    else:\n",
        "        return False\n",
        "\n",
        "x = sample_exponential_sequence(1000, 1)\n",
        "res = chi_square_test(x, 1, 0.05)\n",
        "print(f\"\"\"\n",
        "Для n={1000}, гіпотеза X ~ F(u, 1), коли насправді X ~ F(u, 1)\n",
        "Результат: {res}\n",
        "\n",
        "\"\"\")\n",
        "\n",
        "# x = sample_exponential_sequence(10000, 1)\n",
        "# res = chi_square_test(x, 1, 0.05)\n",
        "# print(f\"\"\"\n",
        "# Для n={10000}, гіпотеза X ~ F(u, 1), коли насправді X ~ F(u, 1)\n",
        "# Результат: {res}\n",
        "\n",
        "# \"\"\")\n",
        "\n",
        "# x = sample_exponential_sequence(100000, 1)\n",
        "# res = chi_square_test(x, 1, 0.05)\n",
        "# print(f\"\"\"\n",
        "# Для n={100000}, гіпотеза X ~ F(u, 1), коли насправді X ~ F(u, 1)\n",
        "# Результат: {res}\n",
        "\n",
        "# \"\"\")\n",
        "\n",
        "# x = sample_exponential_sequence(1000, 1.3)\n",
        "# res = chi_square_test(x, 1, 0.05)\n",
        "# print(f\"\"\"\n",
        "# Для n={10000}, гіпотеза X ~ F(u, 1), коли насправді X ~ F(u, 1.3)\n",
        "# Результат: {res}\n",
        "\n",
        "# \"\"\")\n",
        "\n",
        "# x = sample_exponential_sequence(10000, 1.3)\n",
        "# res = chi_square_test(x, 1, 0.05)\n",
        "# print(f\"\"\"\n",
        "# Для n={10000}, гіпотеза X ~ F(u, 1), коли насправді X ~ F(u, 1.3)\n",
        "# Результат: {res}\n",
        "\n",
        "# \"\"\")\n",
        "\n",
        "# x = sample_exponential_sequence(100000, 1.3)\n",
        "# res = chi_square_test(x, 1, 0.05)\n",
        "# print(f\"\"\"\n",
        "# Для n={10000}, гіпотеза X ~ F(u, 1), коли насправді X ~ F(u, 1.3)\n",
        "# Результат: {res}\n",
        "\n",
        "# \"\"\")"
      ],
      "metadata": {
        "colab": {
          "base_uri": "https://localhost:8080/",
          "height": 425
        },
        "id": "6J_crOZw3_8A",
        "outputId": "0af6882c-501a-4e1e-899d-04e3b95c18f7"
      },
      "execution_count": null,
      "outputs": [
        {
          "output_type": "stream",
          "name": "stdout",
          "text": [
            "[ True  True False False False]\n",
            "[(0, 0.4054651081081643), (0.4054651081081643, 0.6931471805599453), (0.6931471805599453, inf)]\n",
            "<map object at 0x7fdc8a5ad8e0>\n",
            "[0 0 0]\n"
          ]
        },
        {
          "output_type": "error",
          "ename": "TypeError",
          "evalue": "ignored",
          "traceback": [
            "\u001b[0;31m---------------------------------------------------------------------------\u001b[0m",
            "\u001b[0;31mTypeError\u001b[0m                                 Traceback (most recent call last)",
            "\u001b[0;32m<ipython-input-95-1fe945436a86>\u001b[0m in \u001b[0;36m<module>\u001b[0;34m\u001b[0m\n\u001b[1;32m     53\u001b[0m \u001b[0;34m\u001b[0m\u001b[0m\n\u001b[1;32m     54\u001b[0m \u001b[0mx\u001b[0m \u001b[0;34m=\u001b[0m \u001b[0msample_exponential_sequence\u001b[0m\u001b[0;34m(\u001b[0m\u001b[0;36m1000\u001b[0m\u001b[0;34m,\u001b[0m \u001b[0;36m1\u001b[0m\u001b[0;34m)\u001b[0m\u001b[0;34m\u001b[0m\u001b[0;34m\u001b[0m\u001b[0m\n\u001b[0;32m---> 55\u001b[0;31m \u001b[0mres\u001b[0m \u001b[0;34m=\u001b[0m \u001b[0mchi_square_test\u001b[0m\u001b[0;34m(\u001b[0m\u001b[0mx\u001b[0m\u001b[0;34m,\u001b[0m \u001b[0;36m1\u001b[0m\u001b[0;34m,\u001b[0m \u001b[0;36m0.05\u001b[0m\u001b[0;34m)\u001b[0m\u001b[0;34m\u001b[0m\u001b[0;34m\u001b[0m\u001b[0m\n\u001b[0m\u001b[1;32m     56\u001b[0m print(f\"\"\"\n\u001b[1;32m     57\u001b[0m \u001b[0mДля\u001b[0m \u001b[0mn\u001b[0m\u001b[0;34m=\u001b[0m\u001b[0;34m{\u001b[0m\u001b[0;36m1000\u001b[0m\u001b[0;34m}\u001b[0m\u001b[0;34m,\u001b[0m \u001b[0mгіпотеза\u001b[0m \u001b[0mX\u001b[0m \u001b[0;34m~\u001b[0m \u001b[0mF\u001b[0m\u001b[0;34m(\u001b[0m\u001b[0mu\u001b[0m\u001b[0;34m,\u001b[0m \u001b[0;36m1\u001b[0m\u001b[0;34m)\u001b[0m\u001b[0;34m,\u001b[0m \u001b[0mколи\u001b[0m \u001b[0mнасправді\u001b[0m \u001b[0mX\u001b[0m \u001b[0;34m~\u001b[0m \u001b[0mF\u001b[0m\u001b[0;34m(\u001b[0m\u001b[0mu\u001b[0m\u001b[0;34m,\u001b[0m \u001b[0;36m1\u001b[0m\u001b[0;34m)\u001b[0m\u001b[0;34m\u001b[0m\u001b[0;34m\u001b[0m\u001b[0m\n",
            "\u001b[0;32m<ipython-input-95-1fe945436a86>\u001b[0m in \u001b[0;36mchi_square_test\u001b[0;34m(data, lam, gamma)\u001b[0m\n\u001b[1;32m     44\u001b[0m \u001b[0;34m\u001b[0m\u001b[0m\n\u001b[1;32m     45\u001b[0m     \u001b[0;31m# Step 3: Calculate the chi-square test statistic\u001b[0m\u001b[0;34m\u001b[0m\u001b[0;34m\u001b[0m\u001b[0;34m\u001b[0m\u001b[0m\n\u001b[0;32m---> 46\u001b[0;31m     \u001b[0mdelta_n\u001b[0m \u001b[0;34m=\u001b[0m \u001b[0mnp\u001b[0m\u001b[0;34m.\u001b[0m\u001b[0msum\u001b[0m\u001b[0;34m(\u001b[0m\u001b[0;34m(\u001b[0m\u001b[0mobserved_freqs\u001b[0m \u001b[0;34m-\u001b[0m \u001b[0mexpected_freqs\u001b[0m\u001b[0;34m)\u001b[0m \u001b[0;34m**\u001b[0m \u001b[0;36m2\u001b[0m \u001b[0;34m/\u001b[0m \u001b[0mexpected_freqs\u001b[0m\u001b[0;34m)\u001b[0m\u001b[0;34m\u001b[0m\u001b[0;34m\u001b[0m\u001b[0m\n\u001b[0m\u001b[1;32m     47\u001b[0m \u001b[0;34m\u001b[0m\u001b[0m\n\u001b[1;32m     48\u001b[0m     \u001b[0;31m# Step 4: Compare the test statistic with the critical value\u001b[0m\u001b[0;34m\u001b[0m\u001b[0;34m\u001b[0m\u001b[0;34m\u001b[0m\u001b[0m\n",
            "\u001b[0;31mTypeError\u001b[0m: unsupported operand type(s) for -: 'int' and 'map'"
          ]
        }
      ]
    },
    {
      "cell_type": "code",
      "source": [
        "  "
      ],
      "metadata": {
        "id": "rEQSNz1BQ1-h"
      },
      "execution_count": null,
      "outputs": []
    }
  ]
}