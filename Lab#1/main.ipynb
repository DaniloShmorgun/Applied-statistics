{
 "cells": [
  {
   "cell_type": "code",
   "execution_count": 1,
   "metadata": {},
   "outputs": [],
   "source": [
    "import math\n",
    "import numpy as np\n",
    "from scipy.stats import t, chi2, norm \n",
    "import random \n",
    "\n",
    "def normal_seq_gen(n):\n",
    "\n",
    "    seq1 = np.random.standard_normal(n)\n",
    "\n",
    "    return seq1"
   ]
  },
  {
   "cell_type": "code",
   "execution_count": 2,
   "metadata": {},
   "outputs": [
    {
     "data": {
      "text/latex": [
       "Task 1. <br>\n",
       "Construct a confidence interval for: <br>\n",
       "$a)$ $E(X_i)$ $\\{X_i\\} \\sim  N(0,1)$, $\\sigma^2$ is unknown  <br>\n",
       "$b)$ $E(X_i)$ distribution is unknown <br>\n",
       "$c)$ $\\sigma^2$ with $\\{X_i\\} \\sim N(0, 1)$\n"
      ],
      "text/plain": [
       "<IPython.core.display.Latex object>"
      ]
     },
     "metadata": {},
     "output_type": "display_data"
    }
   ],
   "source": [
    "%%latex\n",
    "Task 1. <br>\n",
    "Construct a confidence interval for: <br>\n",
    "$a)$ $E(X_i)$ $\\{X_i\\} \\sim  N(0,1)$, $\\sigma^2$ is unknown  <br>\n",
    "$b)$ $E(X_i)$ distribution is unknown <br>\n",
    "$c)$ $\\sigma^2$ with $\\{X_i\\} \\sim N(0, 1)$"
   ]
  },
  {
   "cell_type": "code",
   "execution_count": 3,
   "metadata": {},
   "outputs": [
    {
     "data": {
      "text/latex": [
       "Statistical mean and variance: <br>\n",
       "\n",
       "$\\hat{a}_{n}=\\frac{1}{n}\\sum_{k=1}^{n}{X_{k}},\\qquad\\hat{\\sigma}_{n}^{2}=\\frac{1}{n-1}\\sum_{k=1}^{n}(X_{k}-\\hat{a}_{n})^{2}\\,$\n"
      ],
      "text/plain": [
       "<IPython.core.display.Latex object>"
      ]
     },
     "metadata": {},
     "output_type": "display_data"
    }
   ],
   "source": [
    "%%latex\n",
    "Statistical mean and variance: <br>\n",
    "\n",
    "$\\hat{a}_{n}=\\frac{1}{n}\\sum_{k=1}^{n}{X_{k}},\\qquad\\hat{\\sigma}_{n}^{2}=\\frac{1}{n-1}\\sum_{k=1}^{n}(X_{k}-\\hat{a}_{n})^{2}\\,$"
   ]
  },
  {
   "cell_type": "code",
   "execution_count": 4,
   "metadata": {},
   "outputs": [
    {
     "data": {
      "text/latex": [
       "All Confidence intervals builds with confidence 1 - $\\gamma$ = 0.99 $(\\alpha = 0.1)$, for n = 100\n",
       "n = 10_000 and n 1_000_000.\n"
      ],
      "text/plain": [
       "<IPython.core.display.Latex object>"
      ]
     },
     "metadata": {},
     "output_type": "display_data"
    }
   ],
   "source": [
    "%%latex\n",
    "All Confidence intervals builds with confidence 1 - $\\gamma$ = 0.99 $(\\alpha = 0.1)$, for n = 100\n",
    "n = 10_000 and n 1_000_000."
   ]
  },
  {
   "cell_type": "code",
   "execution_count": 5,
   "metadata": {},
   "outputs": [
    {
     "data": {
      "text/latex": [
       "In each task, we need to show\n",
       "1. Number of iterations \n",
       "2. Estimation\n",
       "3. Confidence interval\n",
       "4. Length of confidence interval\n"
      ],
      "text/plain": [
       "<IPython.core.display.Latex object>"
      ]
     },
     "metadata": {},
     "output_type": "display_data"
    }
   ],
   "source": [
    "%%latex\n",
    "In each task, we need to show\n",
    "1. Number of iterations \n",
    "2. Estimation\n",
    "3. Confidence interval\n",
    "4. Length of confidence interval"
   ]
  },
  {
   "cell_type": "code",
   "execution_count": 6,
   "metadata": {},
   "outputs": [
    {
     "data": {
      "text/latex": [
       "Compedium for each task:<br>\n",
       "\n",
       "a) Use this formula:\n",
       "$$\\mathsf{P}\\left\\{{\\hat{a}}_{n}-{\\frac{z_{\\gamma}}{\\sqrt{n-1}}}\\,{\\hat{\\sigma}}_{n}<a<{\\hat{a}}_{n}+{\\frac{z_{\\gamma}}{\\sqrt{n-1}}}\\,{\\hat{\\sigma}}_{n}\\;\\right\\}=1-\\gamma\\,.$$\n",
       "$$a\\in\\left({\\hat{a}}_{n}-{\\frac{z_{\\gamma}}{\\sqrt{n - 1}}}\\,\\hat{\\sigma}_n,\\,\\,\\,\\,{\\hat{a}}_{n}+{\\frac{z_{\\gamma}}{\\sqrt{n - 1}}}\\,\\hat{\\sigma}_n\\,\\right)$$ \n",
       "$$\\hat{\\gamma}_{n}=\\sqrt{n-1}\\,\\frac{\\hat{a}_{n}-a}{\\hat{\\sigma}_{n}}\\,.$$\n",
       "$z_\\gamma$ we get from Toggle the table of contents\n",
       "Student\\'s t-distribution for $2* S(z) = 1 - \\gamma \\Longrightarrow z = S^{-1}(1/2 - \\gamma/2)$<br>\n",
       "\n",
       "b) Use this formula:\n",
       "\n",
       "$$\\hat{\\sigma}_{n}^{2}=\\frac{1}{n-1}\\sum_{k=1}^{n}(X_{k}-\\hat{a}_{n})^{2}\\rightarrow_{n\\to\\infty}\\sigma^{2}.$$\n",
       "$$a\\in\\left({\\hat{a}}_{n}-{\\frac{z_{\\gamma}\\,{\\hat{\\sigma}}_{n}}{\\sqrt{n}}},\\ {\\hat{a}}_{n}+{\\frac{z_{\\gamma}\\,{\\hat{\\sigma}}_{n}}{\\sqrt{n}}}\\right)$$\n",
       "$z_\\gamma$ we get from error function for $2* \\Phi(z) = 1 - \\gamma \\Longrightarrow z = \\Phi^{-1}(1/2 - \\gamma/2)$ <br>\n",
       "\n",
       "c) Use this formula:\n",
       "\n",
       "$$\\mathrm{P}\\left\\{z_{\\gamma n}^{(1)}<\\frac{n\\,\\hat{\\sigma}_{n}^{2}}{\\sigma^{2}}<z_{\\gamma n}^{(2)}\\right\\}=\\int_{z_{\\gamma n}^{(1)}}^{z_{\\gamma n}^{(2)}}t_{n-1}(u)\\,d u=1-\\gamma.$$\n",
       "$$\\frac{n\\,\\hat{\\sigma}_{n}^{2}}{z_{\\gamma n}^{(2)}}<\\sigma^{2}<\\frac{n\\,\\hat{\\sigma}_{n}^{2}}{z_{\\gamma n}^{(1)}}$$\n",
       "\n",
       "$z_\\gamma$ we get from chi square for $\\chi^2_{n-1} = 1 - \\gamma \\Longrightarrow (\\chi^2_{n-1})^{-1}(1 - \\gamma) $ <br>\n"
      ],
      "text/plain": [
       "<IPython.core.display.Latex object>"
      ]
     },
     "metadata": {},
     "output_type": "display_data"
    }
   ],
   "source": [
    "%%latex \n",
    "Compedium for each task:<br>\n",
    "\n",
    "a) Use this formula:\n",
    "$$\\mathsf{P}\\left\\{{\\hat{a}}_{n}-{\\frac{z_{\\gamma}}{\\sqrt{n-1}}}\\,{\\hat{\\sigma}}_{n}<a<{\\hat{a}}_{n}+{\\frac{z_{\\gamma}}{\\sqrt{n-1}}}\\,{\\hat{\\sigma}}_{n}\\;\\right\\}=1-\\gamma\\,.$$\n",
    "$$a\\in\\left({\\hat{a}}_{n}-{\\frac{z_{\\gamma}}{\\sqrt{n - 1}}}\\,\\hat{\\sigma}_n,\\,\\,\\,\\,{\\hat{a}}_{n}+{\\frac{z_{\\gamma}}{\\sqrt{n - 1}}}\\,\\hat{\\sigma}_n\\,\\right)$$ \n",
    "$$\\hat{\\gamma}_{n}=\\sqrt{n-1}\\,\\frac{\\hat{a}_{n}-a}{\\hat{\\sigma}_{n}}\\,.$$\n",
    "$z_\\gamma$ we get from Toggle the table of contents\n",
    "Student\\'s t-distribution for $2* S(z) = 1 - \\gamma \\Longrightarrow z = S^{-1}(1/2 - \\gamma/2)$<br>\n",
    "\n",
    "b) Use this formula:\n",
    "\n",
    "$$\\hat{\\sigma}_{n}^{2}=\\frac{1}{n-1}\\sum_{k=1}^{n}(X_{k}-\\hat{a}_{n})^{2}\\rightarrow_{n\\to\\infty}\\sigma^{2}.$$\n",
    "$$a\\in\\left({\\hat{a}}_{n}-{\\frac{z_{\\gamma}\\,{\\hat{\\sigma}}_{n}}{\\sqrt{n}}},\\ {\\hat{a}}_{n}+{\\frac{z_{\\gamma}\\,{\\hat{\\sigma}}_{n}}{\\sqrt{n}}}\\right)$$\n",
    "$z_\\gamma$ we get from error function for $2* \\Phi(z) = 1 - \\gamma \\Longrightarrow z = \\Phi^{-1}(1/2 - \\gamma/2)$ <br>\n",
    "\n",
    "c) Use this formula:\n",
    "\n",
    "$$\\mathrm{P}\\left\\{z_{\\gamma n}^{(1)}<\\frac{n\\,\\hat{\\sigma}_{n}^{2}}{\\sigma^{2}}<z_{\\gamma n}^{(2)}\\right\\}=\\int_{z_{\\gamma n}^{(1)}}^{z_{\\gamma n}^{(2)}}t_{n-1}(u)\\,d u=1-\\gamma.$$\n",
    "$$\\frac{n\\,\\hat{\\sigma}_{n}^{2}}{z_{\\gamma n}^{(2)}}<\\sigma^{2}<\\frac{n\\,\\hat{\\sigma}_{n}^{2}}{z_{\\gamma n}^{(1)}}$$\n",
    "\n",
    "$z_\\gamma$ we get from chi square for $\\chi^2_{n-1} = 1 - \\gamma \\Longrightarrow (\\chi^2_{n-1})^{-1}(1 - \\gamma) $ <br>"
   ]
  },
  {
   "cell_type": "code",
   "execution_count": 7,
   "metadata": {},
   "outputs": [
    {
     "data": {
      "text/latex": [
       "$$n^{*}\\!=\\!\\mathrm{min}\\left\\{n\\geq n_{0}:\\,n\\geq\\frac{z_{\\gamma}^{2}\\left[\\tilde{\\sigma}_{n}^{(n)}\\right]^{2}}{\\epsilon^{2}\\left[\\tilde{Q}_{m}^{(n)}\\right]^{2}}\\right\\},$$\n"
      ],
      "text/plain": [
       "<IPython.core.display.Latex object>"
      ]
     },
     "metadata": {},
     "output_type": "display_data"
    }
   ],
   "source": [
    "%%latex\n",
    "$$n^{*}\\!=\\!\\mathrm{min}\\left\\{n\\geq n_{0}:\\,n\\geq\\frac{z_{\\gamma}^{2}\\left[\\tilde{\\sigma}_{n}^{(n)}\\right]^{2}}{\\epsilon^{2}\\left[\\tilde{Q}_{m}^{(n)}\\right]^{2}}\\right\\},$$"
   ]
  },
  {
   "cell_type": "code",
   "execution_count": null,
   "metadata": {},
   "outputs": [],
   "source": []
  },
  {
   "cell_type": "code",
   "execution_count": 8,
   "metadata": {},
   "outputs": [],
   "source": [
    "def task1(seq, confidence):\n",
    "    number_of_samples = len(seq)\n",
    "    sample_var = np.std(seq, ddof=1)\n",
    "    sample_mean = np.mean(seq)\n",
    "    \n",
    "    alpha = 1 - confidence\n",
    "    z_gamma = abs(t.ppf(q=alpha/2, df=number_of_samples - 1)) \n",
    "    \n",
    "    half_width = (z_gamma * sample_var)/math.sqrt(number_of_samples - 1)\n",
    "    \n",
    "    upper = sample_mean + half_width\n",
    "    lower = sample_mean - half_width\n",
    "\n",
    "    return lower, upper"
   ]
  },
  {
   "cell_type": "code",
   "execution_count": 9,
   "metadata": {},
   "outputs": [],
   "source": [
    "def task2(seq, confidence):\n",
    "    number_of_samples = len(seq)\n",
    "    sample_mean = np.mean(seq)\n",
    "    sample_var = np.std(seq, ddof=1)\n",
    "\n",
    "    alpha = 1 - confidence\n",
    "    z_gamma = abs(norm.ppf(alpha/2))\n",
    "\n",
    "    half_width = (z_gamma * sample_var)/math.sqrt(number_of_samples)\n",
    "    \n",
    "    upper = sample_mean + half_width\n",
    "    lower = sample_mean - half_width\n",
    "\n",
    "    return lower, upper\n"
   ]
  },
  {
   "cell_type": "code",
   "execution_count": 10,
   "metadata": {},
   "outputs": [],
   "source": [
    "def task3(seq, confidence):\n",
    "    number_of_samples = len(seq)\n",
    "    sample_var = np.std(seq, ddof=1)\n",
    "\n",
    "    alpha = 1 - confidence\n",
    "    chi2_lower = chi2.ppf(1 - alpha/2, df=number_of_samples - 1)\n",
    "    chi2_upper = chi2.ppf(alpha/2, df=number_of_samples - 1)\n",
    "\n",
    "    lower = (number_of_samples * sample_var**2)/ chi2_upper\n",
    "    upper = (number_of_samples * sample_var**2)/ chi2_lower\n",
    "    return lower, upper"
   ]
  },
  {
   "cell_type": "code",
   "execution_count": 11,
   "metadata": {},
   "outputs": [
    {
     "name": "stdout",
     "output_type": "stream",
     "text": [
      "Sequence length: 100\n",
      "Mean confidence interval (normal): (-0.48402101391144003, 0.07918031701092709)\n",
      "Mean confidence interval (unknown): (1.7111629516266635, 0.8188521618769197)\n",
      "Mean: -0.20242034845025647\n",
      "Mean length of confidence interval (normal): 0.5632013309223671\n",
      "Mean length of confidence interval (unknown): -0.8923107897497439\n",
      "Standard deviation confidence interval: (-0.47721392818814207, 0.07237323128762913)\n",
      "Standard deviation: 1.0668159546103588\n",
      "Length of confidence interval: 0.5495871594757712\n",
      "\n",
      "\n",
      "\n",
      "Sequence length: 10000\n",
      "Mean confidence interval (normal): (-0.028459571810463314, 0.022474331550017882)\n",
      "Mean confidence interval (unknown): (1.0136806284072724, 0.9424466985988129)\n",
      "Mean: -0.002992620130222716\n",
      "Mean length of confidence interval (normal): 0.050933903360481196\n",
      "Mean length of confidence interval (unknown): -0.07123392980845944\n",
      "Standard deviation confidence interval: (-0.02845343730378827, 0.02246819704334284)\n",
      "Standard deviation: 0.9884512587261277\n",
      "Length of confidence interval: 0.05092163434713111\n",
      "\n",
      "\n",
      "\n",
      "Sequence length: 1000000\n",
      "Mean confidence interval (normal): (-0.0032779632282002565, 0.0018781252857165654)\n",
      "Mean confidence interval (unknown): (1.0053752923628296, 0.9980771941831043)\n",
      "Mean: -0.0006999189712418456\n",
      "Mean length of confidence interval (normal): 0.005156088513916822\n",
      "Mean length of confidence interval (unknown): -0.007298098179725376\n",
      "Standard deviation confidence interval: (-0.003277957018400561, 0.0018781190759168702)\n",
      "Standard deviation: 1.0008574883462862\n",
      "Length of confidence interval: 0.005156076094317431\n"
     ]
    }
   ],
   "source": [
    "def find_ci(n, confidence):\n",
    "    seq = normal_seq_gen(n)\n",
    "\n",
    "    # Calculate confidence intervals for mean and standard deviation\n",
    "    ci_mean = task1(seq, confidence)\n",
    "    ci_std = task2(seq, confidence)\n",
    "    ci_mean_unknown = task3(seq, confidence)\n",
    "\n",
    "    # Print results\n",
    "    print(\"Sequence length:\", n)\n",
    "    print(\"Mean confidence interval (normal):\", ci_mean)\n",
    "    print(\"Mean confidence interval (unknown):\", ci_mean_unknown)\n",
    "    print(\"Mean:\", np.mean(seq))\n",
    "    print(\"Mean length of confidence interval (normal):\", ci_mean[1] - ci_mean[0])\n",
    "    print(\"Mean length of confidence interval (unknown):\", ci_mean_unknown[1] - ci_mean_unknown[0])\n",
    "    print(\"Standard deviation confidence interval:\", ci_std)\n",
    "    print(\"Standard deviation:\", np.std(seq, ddof=1))\n",
    "    print(\"Length of confidence interval:\", ci_std[1] - ci_std[0])\n",
    "\n",
    "find_ci(100, 0.99)\n",
    "print(\"\\n\\n\")\n",
    "find_ci(1_000_0, 0.99)\n",
    "print(\"\\n\\n\")\n",
    "find_ci(1_000_000, 0.99)"
   ]
  },
  {
   "cell_type": "code",
   "execution_count": 104,
   "metadata": {},
   "outputs": [
    {
     "name": "stdout",
     "output_type": "stream",
     "text": [
      "[False False False False False False False False False False False False\n",
      " False False False False False False False False False False False False\n",
      " False False False False False False False False False False False False\n",
      " False False False False False False False False False False False False\n",
      " False False False False False False False False False False False False\n",
      " False False False False False False False False False False False False\n",
      " False False False False False False False False False False False False\n",
      " False False False False False False False False False False False False\n",
      " False False False False]\n"
     ]
    },
    {
     "data": {
      "text/plain": [
       "(0.0, 100)"
      ]
     },
     "execution_count": 104,
     "metadata": {},
     "output_type": "execute_result"
    }
   ],
   "source": [
    "from scipy.integrate import quad\n",
    "def sample_space(n):\n",
    "    return np.random.uniform(low=0, high=1, size=n)\n",
    "\n",
    "def accurate_prob(n):\n",
    "    f = lambda x: 1/(1+x) * (x**(n-1)/math.factorial(n-1)) * math.exp(-x)\n",
    "    a, b = 0, 100\n",
    "    res, error = quad(f, a, b)\n",
    "    return res, error \n",
    "\n",
    "\n",
    "\n",
    "def sample_space(n):\n",
    "    return np.random.uniform(low=0, high=1, size=n)\n",
    "\n",
    "\n",
    "\n",
    "def generate_samples(n, m):\n",
    "    \n",
    "    from scipy.stats import rv_continuous, expon\n",
    "\n",
    "    class CustomDistribution(rv_continuous):\n",
    "        def __init__(self, xtol=1e-14, seed=None):\n",
    "            super().__init__(a=0, xtol=xtol, seed=seed)\n",
    "        \n",
    "        def _cdf(self, x):\n",
    "            return 1 - 1/(x+1)\n",
    "\n",
    "    custom = CustomDistribution()    \n",
    "    \n",
    "    mu = custom.rvs(size=n) \n",
    "    csi = expon.rvs(size=(n,m))\n",
    "\n",
    "    return mu, csi\n",
    "\n",
    "def monte_carlo_prob(n, m):\n",
    "    \n",
    "    mu, csi = generate_samples(n, m)\n",
    "\n",
    "    # Compute the sum of each row\n",
    "    csi_sums = np.sum(csi, axis=1)\n",
    "\n",
    "    # Compute the number of times x > csi_sum\n",
    "    estimation = mu > csi_sums\n",
    "\n",
    "    samples_count = len(estimation) \n",
    "    mean_estimation = np.mean(estimation)\n",
    "\n",
    "    number_of_iterations = n\n",
    "    print(estimation)\n",
    "    if mean_estimation.sum():\n",
    "        var_success = 1/(len(estimation) - 1) \\\n",
    "        * (np.sum(mean_estimation**2) - samples_count * mean_estimation**2)\n",
    "\n",
    "        z_gamma = 2.575\n",
    "        epsilon = 0.01\n",
    "\n",
    "        number_of_iterations = math.ceil((z_gamma**2 * var_success) \\\n",
    "                                / (epsilon**2 * var_success))\n",
    "\n",
    "\n",
    "    return mean_estimation, number_of_iterations\n",
    "\n",
    "# Test the function with n = 10000 and m = 10\n",
    "n0 = 100\n",
    "n_calc = 66307\n",
    "monte_carlo_prob(n0, 100)"
   ]
  },
  {
   "cell_type": "code",
   "execution_count": 125,
   "metadata": {},
   "outputs": [
    {
     "data": {
      "text/plain": [
       "(9.981455560886002e-05, 66307)"
      ]
     },
     "execution_count": 125,
     "metadata": {},
     "output_type": "execute_result"
    }
   ],
   "source": [
    "def method2(n, m):\n",
    "    \n",
    "    mu, csi = generate_samples(n, m)\n",
    "\n",
    "    # Compute the sum of each row\n",
    "    csi_sums = np.sum(csi, axis=1)\n",
    "\n",
    "    # Compute the number of times x > csi_sum\n",
    "    estimation = 1/(1 + csi_sums)\n",
    "\n",
    "    samples_count = len(estimation) \n",
    "    mean_estimation = np.mean(estimation)\n",
    "\n",
    "    number_of_iterations = n\n",
    "    \n",
    "    if not np.isnan(mean_estimation):\n",
    "        \n",
    "        var_success = 1/(len(estimation) - 1) \\\n",
    "        * (np.sum(mean_estimation**2) - samples_count * mean_estimation**2)\n",
    "\n",
    "        z_gamma = 2.575\n",
    "        epsilon = 0.01\n",
    "        number_of_iterations = math.ceil((z_gamma**2 * var_success) \\\n",
    "                                / (epsilon**2 * var_success))\n",
    "\n",
    "\n",
    "    return mean_estimation, number_of_iterations\n",
    "\n",
    "n0 = 100\n",
    "n_calc = 66307\n",
    "method2(n0, 10000)"
   ]
  },
  {
   "cell_type": "code",
   "execution_count": 124,
   "metadata": {},
   "outputs": [
    {
     "name": "stdout",
     "output_type": "stream",
     "text": [
      "99\n"
     ]
    },
    {
     "data": {
      "text/plain": [
       "(9.999999506403326e-05, 66307)"
      ]
     },
     "execution_count": 124,
     "metadata": {},
     "output_type": "execute_result"
    }
   ],
   "source": [
    "def method4(n, m):\n",
    "    \n",
    "    mu, csi = generate_samples(n, m)\n",
    "\n",
    "    # Compute the sum of each row\n",
    "    csi_sums = np.sum(csi, axis=1)\n",
    "\n",
    "    # Compute the number of times x > csi_sum\n",
    "    estimation = 1/(m-1) * (csi_sums[0:-1]/(1 + csi_sums[0:-1]))\n",
    "    \n",
    "    print(len(csi_sums[0:-1]))\n",
    "    samples_count = len(estimation) \n",
    "    mean_estimation = np.mean(estimation)\n",
    "\n",
    "    number_of_iterations = n\n",
    "    \n",
    "    if not np.isnan(mean_estimation):\n",
    "        \n",
    "        var_success = 1/(len(estimation) - 1) \\\n",
    "        * (np.sum(mean_estimation**2) - samples_count * mean_estimation**2)\n",
    "\n",
    "        z_gamma = 2.575\n",
    "        epsilon = 0.01\n",
    "        number_of_iterations = math.ceil((z_gamma**2 * var_success) \\\n",
    "                                / (epsilon**2 * var_success))\n",
    "\n",
    "\n",
    "    return mean_estimation, number_of_iterations\n",
    "\n",
    "n0 = 100\n",
    "n_calc = 66307\n",
    "method4(n0, 10000)"
   ]
  }
 ],
 "metadata": {
  "kernelspec": {
   "display_name": "Python 3",
   "language": "python",
   "name": "python3"
  },
  "language_info": {
   "codemirror_mode": {
    "name": "ipython",
    "version": 3
   },
   "file_extension": ".py",
   "mimetype": "text/x-python",
   "name": "python",
   "nbconvert_exporter": "python",
   "pygments_lexer": "ipython3",
   "version": "3.9.13"
  },
  "orig_nbformat": 4
 },
 "nbformat": 4,
 "nbformat_minor": 2
}
